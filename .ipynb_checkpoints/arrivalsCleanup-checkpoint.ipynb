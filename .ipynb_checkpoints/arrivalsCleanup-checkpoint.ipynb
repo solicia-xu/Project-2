{
 "cells": [
  {
   "cell_type": "markdown",
   "metadata": {},
   "source": [
    "### International Travel Information Clean Up"
   ]
  },
  {
   "cell_type": "code",
   "execution_count": 19,
   "metadata": {},
   "outputs": [],
   "source": [
    "# Dependencies and Setup\n",
    "import pandas as pd\n",
    "import numpy as np\n",
    "from sqlalchemy import create_engine\n",
    "engine = create_engine('sqlite://', echo=False)\n",
    "\n",
    "# File to Load \n",
    "intArrivals = \"static/InternationalArrivals.csv\"\n",
    "\n",
    "\n",
    "# Read the Arrival Data and Clean Up\n",
    "arrivalData = pd.read_csv(intArrivals)\n",
    "# Drop Unneccessary Columns\n",
    "arrivalData = arrivalData.drop(columns=['Indicator Name','Indicator Code','2018','2019'])\n",
    "# Fill blanks with 0 and round to whole numbers as passengers can not be fractional\n",
    "arrivalData = arrivalData.fillna(0).round(0)\n",
    "# Display data\n",
    "arrivalData.to_sql('arrivals', con=engine, if_exists='append')"
   ]
  },
  {
   "cell_type": "markdown",
   "metadata": {},
   "source": [
    "#### GROUPING DF BY TYPE AND FINDING TOTAL VOLUME IN MILLIONS BY YEAR"
   ]
  },
  {
   "cell_type": "code",
   "execution_count": 93,
   "metadata": {},
   "outputs": [],
   "source": []
  },
  {
   "cell_type": "markdown",
   "metadata": {},
   "source": [
    "#### Finding total volume, average price, min/max average price, and STD from 2015 - 2017"
   ]
  }
 ],
 "metadata": {
  "anaconda-cloud": {},
  "kernelspec": {
   "display_name": "Python 3",
   "language": "python",
   "name": "python3"
  },
  "language_info": {
   "codemirror_mode": {
    "name": "ipython",
    "version": 3
   },
   "file_extension": ".py",
   "mimetype": "text/x-python",
   "name": "python",
   "nbconvert_exporter": "python",
   "pygments_lexer": "ipython3",
   "version": "3.7.3"
  }
 },
 "nbformat": 4,
 "nbformat_minor": 4
}
