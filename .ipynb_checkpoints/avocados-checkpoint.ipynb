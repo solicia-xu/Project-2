{
 "cells": [
  {
   "cell_type": "markdown",
   "metadata": {},
   "source": [
    "### AVOCADO PRICING AND CONSUMPTION DATA CLEAN UP AND CSV CREATION"
   ]
  },
  {
   "cell_type": "code",
   "execution_count": 92,
   "metadata": {},
   "outputs": [],
   "source": [
    "# Dependencies and Setup\n",
    "%matplotlib inline\n",
    "import matplotlib.pyplot as plt\n",
    "import pandas as pd\n",
    "import numpy as np\n",
    "\n",
    "# File to Load \n",
    "avocados = \"Resources/Avocado Data/avocado.csv\"\n",
    "avocados2015 = \"Resources/Avocado Data/avocado2015.csv\"\n",
    "avocados2016 = \"Resources/Avocado Data/avocado2016.csv\"\n",
    "avocados2017 = \"Resources/Avocado Data/avocado2017.csv\"\n",
    "\n",
    "# Read the Avocado Data\n",
    "avocado_data = pd.read_csv(avocados).rename(columns={\"Unnamed: 0\": \"Index\",\"4046\":\"Small Hass\",\"4225\":\"Large Hass\",\"4770\":\"XLarge Hass\"})\n",
    "avocado_data2015 = pd.read_csv(avocados2015).rename(columns={\"Unnamed: 0\": \"Index\",\"4046\":\"Small Hass\",\"4225\":\"Large Hass\",\"4770\":\"XLarge Hass\"})\n",
    "avocado_data2016 = pd.read_csv(avocados2016).rename(columns={\"Unnamed: 0\": \"Index\",\"4046\":\"Small Hass\",\"4225\":\"Large Hass\",\"4770\":\"XLarge Hass\"})\n",
    "avocado_data2017 = pd.read_csv(avocados2017).rename(columns={\"Unnamed: 0\": \"Index\",\"4046\":\"Small Hass\",\"4225\":\"Large Hass\",\"4770\":\"XLarge Hass\"}) "
   ]
  },
  {
   "cell_type": "markdown",
   "metadata": {},
   "source": [
    "#### GROUPING DF BY TYPE AND FINDING TOTAL VOLUME IN MILLIONS BY YEAR"
   ]
  },
  {
   "cell_type": "code",
   "execution_count": 93,
   "metadata": {},
   "outputs": [],
   "source": [
    "# Find total volume of avocados from 2015 - 2017\n",
    "type_avocado_data2015 = avocado_data2015.groupby('type')\n",
    "type_avocado_data2016 = avocado_data2016.groupby('type')\n",
    "type_avocado_data2017 = avocado_data2017.groupby('type')\n",
    "total_sum_2015 = type_avocado_data2015['Total Volume'].sum()/1000000\n",
    "total_sum_2016 = type_avocado_data2016['Total Volume'].sum()/1000000\n",
    "total_sum_2017 = type_avocado_data2017['Total Volume'].sum()/1000000\n",
    "total_sum_2017\n",
    "\n",
    "consumption_byyear_df = pd.merge(total_sum_2015,total_sum_2016, on='type',how='outer')\n",
    "consumption_byyear_df = pd.merge(consumption_byyear_df,total_sum_2017, on='type',how='outer').rename(columns={\"Total Volume_x\": \"2015\",\"Total Volume_y\":\"2016\",\"Total Volume\": \"2017\"}).round(2)\n",
    "export_csv = consumption_byyear_df.to_csv('Resources/dfs/consumptionByYear.csv')\n",
    "consumption_byyear_df= consumption_byyear_df.round({'2015':2,'2016':2,'2017':2})"
   ]
  },
  {
   "cell_type": "markdown",
   "metadata": {},
   "source": [
    "#### Finding total volume, average price, min/max average price, and STD from 2015 - 2017"
   ]
  },
  {
   "cell_type": "code",
   "execution_count": 94,
   "metadata": {},
   "outputs": [],
   "source": [
    "# Total Avocado Volume\n",
    "total_volume = (avocado_data[\"Total Volume\"]).sum()\n",
    "# Total Small Avocados Sold\n",
    "total_small_hass = (avocado_data[\"Small Hass\"]).sum()\n",
    "# Total Large Avocados Sold\n",
    "total_large_hass = (avocado_data[\"Large Hass\"]).sum()\n",
    "# Total X-tra Large Avocados Sold\n",
    "total_xlarge_hass = (avocado_data[\"XLarge Hass\"]).sum()\n",
    "# Total Average Price of Avocados\n",
    "overall_avg_price = (avocado_data[\"AveragePrice\"]).mean()\n",
    "# Minimum Average Price of Avocados\n",
    "min_avg_price = (avocado_data[\"AveragePrice\"]).min()\n",
    "# Maximum Average Price of Avocados\n",
    "max_avg_price = (avocado_data[\"AveragePrice\"]).max()\n",
    "# Standard Deviation of Average Price of Avocados\n",
    "std = (avocado_data[\"AveragePrice\"]).sem()"
   ]
  },
  {
   "cell_type": "markdown",
   "metadata": {},
   "source": [
    "#### Regional Prices of Avocados 2015-2017"
   ]
  },
  {
   "cell_type": "code",
   "execution_count": 95,
   "metadata": {},
   "outputs": [],
   "source": [
    "# Sort avocado data by region\n",
    "region_data = avocado_data.groupby('region')\n",
    "# Average price of avocados by region\n",
    "regional_mean = region_data['AveragePrice'].mean()\n",
    "# Avocado min by region\n",
    "regional_min = region_data['AveragePrice'].min()\n",
    "# Avocado max by region\n",
    "regional_max = region_data['AveragePrice'].max()\n",
    "# Total difference in min/max by region\n",
    "difference = regional_max - regional_min\n",
    "# Standard deviation of Avocado Prices by Region\n",
    "regional_std = region_data['AveragePrice'].sem()\n",
    "# Dividing Volume by 1 million to make data digestable\n",
    "regional_consumption = region_data['Total Volume'].sum()/1000000\n",
    "regional_consumption = regional_consumption.round(2)"
   ]
  },
  {
   "cell_type": "markdown",
   "metadata": {},
   "source": [
    "#### Overall Summary of Prices by Region with Volume From 2015-2017"
   ]
  },
  {
   "cell_type": "code",
   "execution_count": 96,
   "metadata": {},
   "outputs": [],
   "source": [
    "# Merge all df together into new summary df\n",
    "avocado_summary = pd.merge(regional_mean,regional_min, on='region',how='outer').rename(columns={\"AveragePrice_x\": \"Average Price\",\"AveragePrice_y\":\"Minimum Price\"}).round(2)\n",
    "avocado_summary = pd.merge(avocado_summary,regional_max, on='region',how='outer').rename(columns={\"AveragePrice\": \"Maximum Price\"}).round(2)\n",
    "avocado_summary = pd.merge(avocado_summary,difference, on='region',how='outer').rename(columns={\"AveragePrice\": \"Min/Max Delta\"}).round(2)\n",
    "avocado_summary = pd.merge(avocado_summary,regional_std, on='region',how='outer').round({'AveragePrice':4}).rename(columns={\"AveragePrice\": \"Standard Deviation\"})\n",
    "avocado_summary = pd.merge(avocado_summary,regional_consumption, on='region',how='outer').rename(columns={\"AveragePrice\": \"Standard Deviation\",\"Total Volume\":\"Total Volume (in millions)\"}).round({\"Total Volume (in millions)\":2})\n",
    "avocado_summary = avocado_summary.reset_index(drop=False)\n",
    "export_csv = avocado_summary.to_csv('Resources/dfs/Average Price and Volume Consumption Summary.csv')\n",
    "\n",
    "summary_vol_price = pd.merge(regional_mean,regional_consumption,on='region',how='outer').rename(columns={\"AveragePrice\":\"Average Price\",\"Total Volume\":\"Total Volume(in millions)\"})\n",
    "summary_vol_price = summary_vol_price.round({'Average Price':2,'Total Volume(in millions)':2})\n",
    "\n",
    "#export df to csv file for presentation\n",
    "export_csv = summary_vol_price.to_csv('Resources/dfs/Average Price and Volume Consumed by Region.csv')"
   ]
  },
  {
   "cell_type": "markdown",
   "metadata": {},
   "source": [
    "#### FINDING AVERAGE PRICE BY TYPE OF AVOCADO 2015- 2017"
   ]
  },
  {
   "cell_type": "code",
   "execution_count": 97,
   "metadata": {},
   "outputs": [],
   "source": [
    "# Grouping Avocado Data by Type of Avocado\n",
    "type_data = avocado_data.groupby('type')\n",
    "# Average Price of Avocados by Type\n",
    "average_price_type = type_data['AveragePrice'].mean()\n",
    "# Minimum Average Price\n",
    "min_type_price = type_data['AveragePrice'].min()\n",
    "# Maximum Average Price\n",
    "max_type_price = type_data['AveragePrice'].max()\n",
    "# Price Delta\n",
    "delta_type_price = max_type_price - min_type_price\n",
    "# Standard Deviation\n",
    "std_type_price = type_data['AveragePrice'].sem()"
   ]
  },
  {
   "cell_type": "markdown",
   "metadata": {},
   "source": [
    "#### CREATING OVERALL AVOCADO PRICING DATAFRAME W/ EXPORT"
   ]
  },
  {
   "cell_type": "code",
   "execution_count": 98,
   "metadata": {},
   "outputs": [],
   "source": [
    "# Creating new df to save overall avocado pricing \n",
    "type_df = pd.merge(average_price_type,min_type_price, on='type', how='outer').rename(columns={\"AveragePrice_x\": \"Average Price\",\"AveragePrice_y\":\"Minimum Price\"}).round(2)\n",
    "type_df = pd.merge(type_df, max_type_price, on='type', how='outer').rename(columns={\"AveragePrice\": \"Maximum Price\"}).round(2)\n",
    "type_df = pd.merge(type_df, delta_type_price, on='type', how='outer').rename(columns={\"AveragePrice\": \"Min/Max Delta\"}).round(2)\n",
    "type_df = pd.merge(type_df, std_type_price, on='type', how='outer').rename(columns={\"AveragePrice\": \"Standard Deviation\"})\n",
    "type_df = type_df.reset_index(drop=False)\n",
    "export_csv = type_df.to_csv('Resources/dfs/Avocado Price by Type.csv')"
   ]
  },
  {
   "cell_type": "markdown",
   "metadata": {},
   "source": [
    "#### GROUPING BY REGION THEN TYPE: FINDING AVG, MIN/MAX, STD, DELTA AND VOLUME"
   ]
  },
  {
   "cell_type": "code",
   "execution_count": 99,
   "metadata": {},
   "outputs": [],
   "source": [
    "# Grouping Avocado Data by Type of Avocado\n",
    "combo_data = avocado_data.groupby(['region','type'])\n",
    "# Average Price of Avocados by Type\n",
    "combo_average_price_type = combo_data['AveragePrice'].mean()\n",
    "# Minimum Average Price\n",
    "combo_min_type_price = combo_data['AveragePrice'].min()\n",
    "# Maximum Average Price\n",
    "combo_max_type_price = combo_data['AveragePrice'].max()\n",
    "#Delta\n",
    "combo_delta_type_price = combo_max_type_price - combo_min_type_price\n",
    "# Combo Standard Deviation\n",
    "combo_std_type_price = combo_data['AveragePrice'].sem()\n",
    "# Regional total volume by type of avocado\n",
    "regional_total_volume = combo_data['Total Volume'].sum()"
   ]
  },
  {
   "cell_type": "markdown",
   "metadata": {},
   "source": [
    "#### MERGINING GROUPED BY REGION AND TYPE DATAFRAMES TOGETHER AND EXPORT"
   ]
  },
  {
   "cell_type": "code",
   "execution_count": 100,
   "metadata": {},
   "outputs": [],
   "source": [
    "# CREATING OVERALL SUMMARY DF BY REGION\n",
    "region_type_df = (pd.merge(combo_average_price_type,combo_min_type_price, on=['region','type'], how='outer').rename(columns={\"AveragePrice_x\": \"Average Price\",\"AveragePrice_y\":\"Minimum Price\"})).round(2)\n",
    "region_type_df = pd.merge(region_type_df, combo_max_type_price, on=['region','type'], how='outer').rename(columns={\"AveragePrice\": \"Maximum Price\"}).round(2)\n",
    "region_type_df = pd.merge(region_type_df, combo_delta_type_price, on=['region','type'], how='outer').rename(columns={\"AveragePrice\": \"Min/Max Delta\"}).round(2)\n",
    "region_type_df = pd.merge(region_type_df, combo_std_type_price, on=['region','type'], how='outer').rename(columns={\"AveragePrice\": \"Standard Deviation\"}).round({\"Standard Deviation\":3})\n",
    "region_type_df = pd.merge(region_type_df, regional_total_volume/1000000, on=['region','type'], how='outer').rename(columns={\"Total Volume\": \"Total Volume (in millions)\"}).round({\"Total Volume (in millions)\":2})\n",
    "region_type_df = region_type_df.reset_index(drop=False)\n",
    "export_csv = region_type_df.to_csv('Resources/dfs/Price by Type by Region.csv')"
   ]
  },
  {
   "cell_type": "markdown",
   "metadata": {},
   "source": [
    "#### 2015 REGIONAL AVOCADO CALCUATIONS"
   ]
  },
  {
   "cell_type": "code",
   "execution_count": 101,
   "metadata": {},
   "outputs": [],
   "source": [
    "# Sort avocado data by region\n",
    "region_data2015 = avocado_data2015.groupby('region')\n",
    "# Average price of avocados by region\n",
    "regional_mean2015 = region_data2015['AveragePrice'].mean()\n",
    "# Avocado min by region\n",
    "regional_min2015 = region_data2015['AveragePrice'].min()\n",
    "# Avocado max by region\n",
    "regional_max2015 = region_data2015['AveragePrice'].max()\n",
    "# Total difference in min/max by region\n",
    "difference2015 = regional_max2015 - regional_min2015\n",
    "# Standard deviation of Avocado Prices by Region\n",
    "regional_std2015 = region_data2015['AveragePrice'].sem()"
   ]
  },
  {
   "cell_type": "markdown",
   "metadata": {},
   "source": [
    "#### 2015 REGIONAL AVOCADO DATAFRAME CREATION AND FORMATTING"
   ]
  },
  {
   "cell_type": "code",
   "execution_count": 102,
   "metadata": {},
   "outputs": [],
   "source": [
    "# CREATING OVERALL SUMMARY DF FOR 2015\n",
    "avocado_summary2015 = pd.merge(regional_mean2015,regional_min2015, on='region',how='outer').rename(columns={\"AveragePrice_x\": \"Average Price\",\"AveragePrice_y\":\"Minimum Price\"})\n",
    "avocado_summary2015 = pd.merge(avocado_summary2015,regional_max2015, on='region',how='outer').rename(columns={\"AveragePrice\": \"Maximum Price\"})\n",
    "avocado_summary2015 = pd.merge(avocado_summary2015,difference2015, on='region',how='outer').rename(columns={\"AveragePrice\": \"Min/Max Delta\"})\n",
    "avocado_summary2015 = pd.merge(avocado_summary2015,regional_std2015, on='region',how='outer').rename(columns={\"AveragePrice\": \"Standard Deviation\"})\n",
    "avocado_summary2015 = avocado_summary2015.style.format({'Average Price':'${:,.2f}',\n",
    "                             'Minimum Price':'${:,.2f}',\n",
    "                             'Maximum Price':'${:,.2f}',\n",
    "                            'Min/Max Delta':'${:,.2f}'})"
   ]
  },
  {
   "cell_type": "markdown",
   "metadata": {},
   "source": [
    "#### 2016 REGIONAL AVOCADO CALCUATIONS"
   ]
  },
  {
   "cell_type": "code",
   "execution_count": 103,
   "metadata": {},
   "outputs": [],
   "source": [
    "# Sort avocado data by region\n",
    "region_data2016 = avocado_data2016.groupby('region')\n",
    "# Average price of avocados by region\n",
    "regional_mean2016 = region_data2016['AveragePrice'].mean()\n",
    "# Avocado min by region\n",
    "regional_min2016 = region_data2016['AveragePrice'].min()\n",
    "# Avocado max by region\n",
    "regional_max2016 = region_data2016['AveragePrice'].max()\n",
    "# Total difference in min/max by region\n",
    "difference2016 = regional_max2016 - regional_min2016\n",
    "# Standard deviation of Avocado Prices by Region\n",
    "regional_std2016 = region_data2016['AveragePrice'].sem()"
   ]
  },
  {
   "cell_type": "markdown",
   "metadata": {},
   "source": [
    "#### 2016 REGIONAL AVOCADO DATAFRAME CREATION AND FORMATTING"
   ]
  },
  {
   "cell_type": "code",
   "execution_count": 104,
   "metadata": {},
   "outputs": [],
   "source": [
    "# CREATING OVERALL SUMMARY DF FOR 2016\n",
    "avocado_summary2016 = pd.merge(regional_mean2016,regional_min2016, on='region',how='outer').rename(columns={\"AveragePrice_x\": \"Average Price\",\"AveragePrice_y\":\"Minimum Price\"})\n",
    "avocado_summary2016 = pd.merge(avocado_summary2016,regional_max2016, on='region',how='outer').rename(columns={\"AveragePrice\": \"Maximum Price\"})\n",
    "avocado_summary2016 = pd.merge(avocado_summary2016,difference2016, on='region',how='outer').rename(columns={\"AveragePrice\": \"Min/Max Delta\"})\n",
    "avocado_summary2016 = pd.merge(avocado_summary2016,regional_std2016, on='region',how='outer').rename(columns={\"AveragePrice\": \"Standard Deviation\"}).round({\"Standard Deviation\":3})\n",
    "avocado_summary2016 = avocado_summary2016.style.format({'Average Price':'${:,.2f}',\n",
    "                             'Minimum Price':'${:,.2f}',\n",
    "                             'Maximum Price':'${:,.2f}',\n",
    "                            'Min/Max Delta':'${:,.2f}'})"
   ]
  },
  {
   "cell_type": "markdown",
   "metadata": {},
   "source": [
    "#### 2017 REGIONAL AVOCADO CALCUATIONS"
   ]
  },
  {
   "cell_type": "code",
   "execution_count": 105,
   "metadata": {},
   "outputs": [],
   "source": [
    "# Sort avocado data by region\n",
    "region_data2017 = avocado_data2017.groupby('region')\n",
    "# Average price of avocados by region\n",
    "regional_mean2017 = region_data2017['AveragePrice'].mean()\n",
    "# Avocado min by region\n",
    "regional_min2017 = region_data2017['AveragePrice'].min()\n",
    "# Avocado max by region\n",
    "regional_max2017 = region_data2017['AveragePrice'].max()\n",
    "# Total difference in min/max by region\n",
    "difference2017 = regional_max2017 - regional_min2017\n",
    "# Standard deviation of Avocado Prices by Region\n",
    "regional_std2017 = region_data2017['AveragePrice'].sem()"
   ]
  },
  {
   "cell_type": "markdown",
   "metadata": {},
   "source": [
    "#### 2017 REGIONAL AVOCADO DATAFRAME CREATION AND FORMATTING"
   ]
  },
  {
   "cell_type": "code",
   "execution_count": 106,
   "metadata": {},
   "outputs": [],
   "source": [
    "# CREATING OVERALL SUMMARY DF FOR 2017\n",
    "avocado_summary2017 = pd.merge(regional_mean2017,regional_min2017, on='region',how='outer').rename(columns={\"AveragePrice_x\": \"Average Price\",\"AveragePrice_y\":\"Minimum Price\"})\n",
    "avocado_summary2017 = pd.merge(avocado_summary2017,regional_max2017, on='region',how='outer').rename(columns={\"AveragePrice\": \"Maximum Price\"})\n",
    "avocado_summary2017 = pd.merge(avocado_summary2017,difference2017, on='region',how='outer').rename(columns={\"AveragePrice\": \"Min/Max Delta\"})\n",
    "avocado_summary2017 = pd.merge(avocado_summary2017,regional_std2017, on='region',how='outer').rename(columns={\"AveragePrice\": \"Standard Deviation\"}).round({\"Standard Deviation\":3})\n",
    "avocado_summary2017 = avocado_summary2017.style.format({'Average Price':'${:,.2f}',\n",
    "                             'Minimum Price':'${:,.2f}',\n",
    "                             'Maximum Price':'${:,.2f}',\n",
    "                            'Min/Max Delta':'${:,.2f}'})"
   ]
  },
  {
   "cell_type": "markdown",
   "metadata": {},
   "source": [
    "#### 2015 REGIONAL PRICING CALCULATIONS"
   ]
  },
  {
   "cell_type": "code",
   "execution_count": 107,
   "metadata": {},
   "outputs": [],
   "source": [
    "# Grouping Avocado Data by Type of Avocado\n",
    "combo_data2015 = avocado_data2015.groupby(['region','type'])\n",
    "# Average Price of Avocados by Type\n",
    "combo_average_price_type2015 = combo_data2015['AveragePrice'].mean()\n",
    "# Minimum Average Price\n",
    "combo_min_type_price2015 = combo_data2015['AveragePrice'].min()\n",
    "#Maximum Average Price\n",
    "combo_max_type_price2015 = combo_data2015['AveragePrice'].max()\n",
    "#Delta\n",
    "combo_delta_type_price2015 = combo_max_type_price2015 - combo_min_type_price2015\n",
    "# Combo Standard Deviation\n",
    "combo_std_type_price2015 = combo_data2015['AveragePrice'].sem()\n",
    "#regional total volume by type of avocado\n",
    "regional_total_volume2015 = combo_data2015['Total Volume'].sum()"
   ]
  },
  {
   "cell_type": "markdown",
   "metadata": {},
   "source": [
    "#### 2015 REGIONAL PRICING DATAFRAME CREATION"
   ]
  },
  {
   "cell_type": "code",
   "execution_count": 108,
   "metadata": {},
   "outputs": [],
   "source": [
    "# CREATING REGIONAL SORTED DF FOR 2015\n",
    "regional_type_df2015 = (pd.merge(combo_average_price_type2015,combo_min_type_price2015, on=['region','type'], how='outer').rename(columns={\"AveragePrice_x\": \"Average Price\",\"AveragePrice_y\":\"Minimum Price\"})).round(2)\n",
    "regional_type_df2015 = pd.merge(regional_type_df2015, combo_max_type_price2015, on=['region','type'], how='outer').rename(columns={\"AveragePrice\": \"Maximum Price\"})\n",
    "regional_type_df2015 = pd.merge(regional_type_df2015, combo_delta_type_price2015, on=['region','type'], how='outer').rename(columns={\"AveragePrice\": \"Min/Max Delta\"})\n",
    "regional_type_df2015 = pd.merge(regional_type_df2015, combo_std_type_price2015, on=['region','type'], how='outer').rename(columns={\"AveragePrice\": \"Standard Deviation\"}).round({\"Standard Deviation\":3})\n",
    "regional_type_df2015 = pd.merge(regional_type_df2015, regional_total_volume2015/1000000, on=['region','type'], how='outer').rename(columns={\"Total Volume\": \"Total Volume (in millions)\"}).round({\"Total Volume (in millions)\":2})"
   ]
  },
  {
   "cell_type": "markdown",
   "metadata": {},
   "source": [
    "#### 2016 REGIONAL PRICING CALCULATIONS"
   ]
  },
  {
   "cell_type": "code",
   "execution_count": 109,
   "metadata": {},
   "outputs": [],
   "source": [
    "# Grouping Avocado Data by Type of Avocado\n",
    "combo_data2016 = avocado_data2016.groupby(['region','type'])\n",
    "# Average Price of Avocados by Type\n",
    "combo_average_price_type2016 = combo_data2016['AveragePrice'].mean()\n",
    "# Minimum Average Price\n",
    "combo_min_type_price2016 = combo_data2016['AveragePrice'].min()\n",
    "#Maximum Average Price\n",
    "combo_max_type_price2016 = combo_data2016['AveragePrice'].max()\n",
    "#Delta\n",
    "combo_delta_type_price2016 = combo_max_type_price2016 - combo_min_type_price2016\n",
    "# Combo Standard Deviation\n",
    "combo_std_type_price2016 = combo_data2016['AveragePrice'].sem()\n",
    "#regional total volume by type of avocado\n",
    "regional_total_volume2016 = combo_data2016['Total Volume'].sum()"
   ]
  },
  {
   "cell_type": "markdown",
   "metadata": {},
   "source": [
    "#### 2016 REGIONAL PRICING DATAFRAME CREATION"
   ]
  },
  {
   "cell_type": "code",
   "execution_count": 110,
   "metadata": {},
   "outputs": [],
   "source": [
    "# CREATING REGIONAL SORTED DF FOR 2017\n",
    "regional_type_df2016 = (pd.merge(combo_average_price_type2016,combo_min_type_price2016, on=['region','type'], how='outer').rename(columns={\"AveragePrice_x\": \"Average Price\",\"AveragePrice_y\":\"Minimum Price\"})).round(2)\n",
    "regional_type_df2016 = pd.merge(regional_type_df2016, combo_max_type_price2016, on=['region','type'], how='outer').rename(columns={\"AveragePrice\": \"Maximum Price\"})\n",
    "regional_type_df2016 = pd.merge(regional_type_df2016, combo_delta_type_price2016, on=['region','type'], how='outer').rename(columns={\"AveragePrice\": \"Min/Max Delta\"})\n",
    "regional_type_df2016 = pd.merge(regional_type_df2016, combo_std_type_price2016, on=['region','type'], how='outer').rename(columns={\"AveragePrice\": \"Standard Deviation\"}).round({\"Standard Deviation\":3})\n",
    "regional_type_df2016 = pd.merge(regional_type_df2016, regional_total_volume2016/1000000, on=['region','type'], how='outer').rename(columns={\"Total Volume\": \"Total Volume (in millions)\"}).round({\"Total Volume (in millions)\":2})"
   ]
  },
  {
   "cell_type": "markdown",
   "metadata": {},
   "source": [
    "#### 2017 REGIONAL PRICING CALCULATIONS"
   ]
  },
  {
   "cell_type": "code",
   "execution_count": 111,
   "metadata": {},
   "outputs": [],
   "source": [
    "# Grouping Avocado Data by Type of Avocado\n",
    "combo_data2017 = avocado_data2017.groupby(['region','type'])\n",
    "# Average Price of Avocados by Type\n",
    "combo_average_price_type2017 = combo_data2017['AveragePrice'].mean()\n",
    "# Minimum Average Price\n",
    "combo_min_type_price2017 = combo_data2017['AveragePrice'].min()\n",
    "#Maximum AveRage Price\n",
    "combo_max_type_price2017 = combo_data2017['AveragePrice'].max()\n",
    "#Delta\n",
    "combo_delta_type_price2017 = combo_max_type_price2017 - combo_min_type_price2017\n",
    "# Combo Standard Deviation\n",
    "combo_std_type_price2017 = combo_data2017['AveragePrice'].sem()\n",
    "#regional total volume by type of avocado\n",
    "regional_total_volume2017 = combo_data2017['Total Volume'].sum()"
   ]
  },
  {
   "cell_type": "markdown",
   "metadata": {},
   "source": [
    "#### 2017 REGIONAL PRICING DATAFRAME CREATION"
   ]
  },
  {
   "cell_type": "code",
   "execution_count": 112,
   "metadata": {},
   "outputs": [],
   "source": [
    "# CREATING REGIONAL SORTED DF FOR 2017\n",
    "regional_type_df2017 = (pd.merge(combo_average_price_type2017,combo_min_type_price2017, on=['region','type'], how='outer').rename(columns={\"AveragePrice_x\": \"Average Price\",\"AveragePrice_y\":\"Minimum Price\"})).round(2)\n",
    "regional_type_df2017 = pd.merge(regional_type_df2017, combo_max_type_price2017, on=['region','type'], how='outer').rename(columns={\"AveragePrice\": \"Maximum Price\"})\n",
    "regional_type_df2017 = pd.merge(regional_type_df2017, combo_delta_type_price2017, on=['region','type'], how='outer').rename(columns={\"AveragePrice\": \"Min/Max Delta\"})\n",
    "regional_type_df2017 = pd.merge(regional_type_df2017, combo_std_type_price2017, on=['region','type'], how='outer').rename(columns={\"AveragePrice\": \"Standard Deviation\"}).round({\"Standard Deviation\":3})\n",
    "regional_type_df2017 = pd.merge(regional_type_df2017, regional_total_volume2017/1000000, on=['region','type'], how='outer').rename(columns={\"Total Volume\": \"Total Volume (in millions)\"}).round({\"Total Volume (in millions)\":2})"
   ]
  },
  {
   "cell_type": "markdown",
   "metadata": {},
   "source": [
    "#### 2015- 2017 TOTAL CONSUMPTION BY REGION DATAFRAME CREATION"
   ]
  },
  {
   "cell_type": "code",
   "execution_count": 113,
   "metadata": {},
   "outputs": [],
   "source": [
    "# CREATING NEW DF THAT ADDS REGIONAL VOLUME BY YEAR \n",
    "total_consumption_by_year_df = pd.merge(regional_total_volume2015,regional_total_volume2016, on=['region','type'], how='outer')\n",
    "total_consumption_by_year_df = pd.merge(total_consumption_by_year_df,regional_total_volume2017, on=['region','type'], how='outer').rename(columns={'Total Volume_x':'2015 Volume (in millions)','Total Volume_y':'2016 Volume (in millions)','Total Volume':'2017 Volume (in millions)'})"
   ]
  },
  {
   "cell_type": "markdown",
   "metadata": {},
   "source": [
    "#### AVERAGE PRICE AND CONSUMPTION BY YEAR SORTED BY TYPE"
   ]
  },
  {
   "cell_type": "code",
   "execution_count": 114,
   "metadata": {},
   "outputs": [],
   "source": [
    "# GROUPING DF BY TYPE FOR ANALYSIS OF PRICE AND VOLUME\n",
    "byType_2015 = avocado_data2015.groupby('type')\n",
    "byType_2016 = avocado_data2016.groupby('type')\n",
    "byType_2017 = avocado_data2017.groupby('type')\n",
    "# CALCULATING AVERAGE PRICE BY YEAR\n",
    "avg_2015 = byType_2015['AveragePrice'].mean()\n",
    "avg_2016 = byType_2016['AveragePrice'].mean()\n",
    "avg_2017 = byType_2017['AveragePrice'].mean()\n",
    "# CALCULATING TOTAL VOLUME IN MILLIONS\n",
    "total_avo_2015 = byType_2015['Total Volume'].sum()/10000000\n",
    "total_avo_2016 = byType_2016['Total Volume'].sum()/10000000\n",
    "total_avo_2017 = byType_2017['Total Volume'].sum()/10000000\n"
   ]
  },
  {
   "cell_type": "markdown",
   "metadata": {},
   "source": [
    "#### AVERAGE PRICING DF TO BE USED FOR PLOTTING"
   ]
  },
  {
   "cell_type": "code",
   "execution_count": 119,
   "metadata": {},
   "outputs": [
    {
     "name": "stderr",
     "output_type": "stream",
     "text": [
      "//anaconda3/lib/python3.7/site-packages/ipykernel_launcher.py:8: SettingWithCopyWarning: \n",
      "A value is trying to be set on a copy of a slice from a DataFrame\n",
      "\n",
      "See the caveats in the documentation: http://pandas.pydata.org/pandas-docs/stable/indexing.html#indexing-view-versus-copy\n",
      "  \n",
      "//anaconda3/lib/python3.7/site-packages/ipykernel_launcher.py:9: SettingWithCopyWarning: \n",
      "A value is trying to be set on a copy of a slice from a DataFrame\n",
      "\n",
      "See the caveats in the documentation: http://pandas.pydata.org/pandas-docs/stable/indexing.html#indexing-view-versus-copy\n",
      "  if __name__ == '__main__':\n",
      "//anaconda3/lib/python3.7/site-packages/ipykernel_launcher.py:10: SettingWithCopyWarning: \n",
      "A value is trying to be set on a copy of a slice from a DataFrame\n",
      "\n",
      "See the caveats in the documentation: http://pandas.pydata.org/pandas-docs/stable/indexing.html#indexing-view-versus-copy\n",
      "  # Remove the CWD from sys.path while we load stuff.\n"
     ]
    }
   ],
   "source": [
    "# CREATING AVERAGE DF TO DISTINGUISH BETWEEN YEARS\n",
    "avg_df = (pd.merge(avg_2015,avg_2016,on='type',how='outer').rename(columns={\"AveragePrice_x\": \"2015\",\"AveragePrice_y\":\"2016\"}))\n",
    "avg_df = (pd.merge(avg_df,avg_2017,on='type',how='outer').rename(columns={\"AveragePrice\": \"2017\", \"type\":\"Year\"}))\n",
    "avg_df.reset_index(drop=True).rename(columns={\"type\":\"Year\"})\n",
    "avg_df1 = avg_df.T\n",
    "avg_df1.reset_index(drop=True)\n",
    "avg_df1['Year']= ''\n",
    "avg_df1['Year'][0] = '2015'\n",
    "avg_df1['Year'][1] = '2016'\n",
    "avg_df1['Year'][2] = '2017'\n",
    "avg_df1 = avg_df1.set_index('Year')\n",
    "avg_df1.to_csv('Resources/dfs/Average Consumption by Year by Type.csv')"
   ]
  },
  {
   "cell_type": "markdown",
   "metadata": {},
   "source": [
    "#### AVERAGE CONSUMPTION DF TO BE USED FOR PLOTTING"
   ]
  },
  {
   "cell_type": "code",
   "execution_count": 116,
   "metadata": {},
   "outputs": [
    {
     "name": "stderr",
     "output_type": "stream",
     "text": [
      "//anaconda3/lib/python3.7/site-packages/ipykernel_launcher.py:7: SettingWithCopyWarning: \n",
      "A value is trying to be set on a copy of a slice from a DataFrame\n",
      "\n",
      "See the caveats in the documentation: http://pandas.pydata.org/pandas-docs/stable/indexing.html#indexing-view-versus-copy\n",
      "  import sys\n",
      "//anaconda3/lib/python3.7/site-packages/ipykernel_launcher.py:8: SettingWithCopyWarning: \n",
      "A value is trying to be set on a copy of a slice from a DataFrame\n",
      "\n",
      "See the caveats in the documentation: http://pandas.pydata.org/pandas-docs/stable/indexing.html#indexing-view-versus-copy\n",
      "  \n",
      "//anaconda3/lib/python3.7/site-packages/ipykernel_launcher.py:9: SettingWithCopyWarning: \n",
      "A value is trying to be set on a copy of a slice from a DataFrame\n",
      "\n",
      "See the caveats in the documentation: http://pandas.pydata.org/pandas-docs/stable/indexing.html#indexing-view-versus-copy\n",
      "  if __name__ == '__main__':\n"
     ]
    }
   ],
   "source": [
    "# CREATING TOTAL AVOCADO CONSUMPTION VOLUME AND ADDING YEAR AS INDEX\n",
    "total_avo_volume = (pd.merge(total_avo_2015,total_avo_2016, on='type',how='outer').rename(columns={\"Total Volume_x\": \"2015\",\"Total Volume_y\":\"2016\"}))\n",
    "total_avo_volume = (pd.merge(total_avo_volume,total_avo_2017, on='type',how='outer').rename(columns={\"Total Volume\": \"2017\"})).round(2)\n",
    "total_avo_volume = total_avo_volume.T\n",
    "total_avo_volume.reset_index(drop=True)\n",
    "total_avo_volume['Year'] = ''\n",
    "total_avo_volume['Year'][0] = '2015'\n",
    "total_avo_volume['Year'][1] = '2016'\n",
    "total_avo_volume['Year'][2] = '2017'\n",
    "total_avo_volume = total_avo_volume.set_index('Year')\n",
    "export_csv = total_avo_volume.to_csv('Resources/dfs/Convetional vs Organic Consumption.csv')"
   ]
  },
  {
   "cell_type": "code",
   "execution_count": null,
   "metadata": {},
   "outputs": [],
   "source": []
  }
 ],
 "metadata": {
  "anaconda-cloud": {},
  "kernelspec": {
   "display_name": "Python 3",
   "language": "python",
   "name": "python3"
  },
  "language_info": {
   "codemirror_mode": {
    "name": "ipython",
    "version": 3
   },
   "file_extension": ".py",
   "mimetype": "text/x-python",
   "name": "python",
   "nbconvert_exporter": "python",
   "pygments_lexer": "ipython3",
   "version": "3.7.3"
  }
 },
 "nbformat": 4,
 "nbformat_minor": 4
}
