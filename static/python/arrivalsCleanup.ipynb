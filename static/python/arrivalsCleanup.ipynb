{
 "cells": [
  {
   "cell_type": "markdown",
   "metadata": {},
   "source": [
    "### International Travel Information Clean Up"
   ]
  },
  {
   "cell_type": "code",
   "execution_count": 10,
   "metadata": {},
   "outputs": [],
   "source": [
    "# Dependencies and Setup\n",
    "import pandas as pd\n",
    "import numpy as np\n",
    "\n",
    "# File to Load \n",
    "intArrivals = \"static/InternationalArrivals.csv\"\n",
    "# Read the Arrival Data and Clean Up\n",
    "arrivalData = pd.read_csv(intArrivals)\n",
    "# Drop Unneccessary Columns\n",
    "arrivalData = arrivalData.drop(columns=['Indicator Name','Indicator Code','2018','2019'])\n",
    "# Fill blanks with 0 and round to whole numbers as passengers can not be fractional\n",
    "arrivalData = arrivalData.fillna(0).round(0)\n",
    "# Display data\n",
    "export_csv = arrivalData.to_csv('static/ArrivalCleaned.csv')\n",
    "export_csv"
   ]
  },
  {
   "cell_type": "markdown",
   "metadata": {},
   "source": [
    "#### GROUPING DF BY TYPE AND FINDING TOTAL VOLUME IN MILLIONS BY YEAR"
   ]
  },
  {
   "cell_type": "code",
   "execution_count": 93,
   "metadata": {},
   "outputs": [],
   "source": [
    "\n"
   ]
  },
  {
   "cell_type": "markdown",
   "metadata": {},
   "source": [
    "#### Finding total volume, average price, min/max average price, and STD from 2015 - 2017"
   ]
  }
 ],
 "metadata": {
  "anaconda-cloud": {},
  "kernelspec": {
   "display_name": "Python 3",
   "language": "python",
   "name": "python3"
  },
  "language_info": {
   "codemirror_mode": {
    "name": "ipython",
    "version": 3
   },
   "file_extension": ".py",
   "mimetype": "text/x-python",
   "name": "python",
   "nbconvert_exporter": "python",
   "pygments_lexer": "ipython3",
   "version": "3.7.3"
  }
 },
 "nbformat": 4,
 "nbformat_minor": 4
}
